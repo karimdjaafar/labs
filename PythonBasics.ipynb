{
  "nbformat": 4,
  "nbformat_minor": 0,
  "metadata": {
    "colab": {
      "provenance": [],
      "authorship_tag": "ABX9TyN6zXRAYf3JoY1CJQyI4HaL",
      "include_colab_link": true
    },
    "kernelspec": {
      "name": "python3",
      "display_name": "Python 3"
    },
    "language_info": {
      "name": "python"
    }
  },
  "cells": [
    {
      "cell_type": "markdown",
      "metadata": {
        "id": "view-in-github",
        "colab_type": "text"
      },
      "source": [
        "<a href=\"https://colab.research.google.com/github/karimdjaafar/labs/blob/main/PythonBasics.ipynb\" target=\"_parent\"><img src=\"https://colab.research.google.com/assets/colab-badge.svg\" alt=\"Open In Colab\"/></a>"
      ]
    },
    {
      "cell_type": "markdown",
      "source": [
        "# Part 1 : Basics\n",
        "\n",
        "\n",
        "---\n",
        "\n",
        "\n",
        "\n",
        "**Part I of this book teaches you the basic concepts you’ll need to write Python programs.**\n",
        "\n",
        "Many of these concepts are common to all programming languages, so they’ll be useful throughout your life as a programmer.\n",
        "\n",
        "#  Setting Up Your Programming Environment\n",
        "Python differs slightly on different operating systems, so you’ll need to keep a few considerations in mind.\n",
        "\n",
        "In the following sections, we’ll make sure Python is set up correctly on your system.\n",
        "\n",
        "# Running Python in a Terminal Session\n",
        "Open a new command window and enter python in lowercase.\n",
        "\n",
        "You should see a Python prompt (>>>), which means Windows has found the version of Python you just installed.\n",
        "\n",
        "Enter the following line in your Python session:\n",
        "\n"
      ],
      "metadata": {
        "id": "MjOR1dDnefBG"
      }
    },
    {
      "cell_type": "code",
      "execution_count": null,
      "metadata": {
        "colab": {
          "base_uri": "https://localhost:8080/"
        },
        "id": "ML-nboixebVU",
        "outputId": "7e2e3959-db3e-419d-93c7-b53a33f25506"
      },
      "outputs": [
        {
          "output_type": "stream",
          "name": "stdout",
          "text": [
            "Hello Python interpreter!\n"
          ]
        }
      ],
      "source": [
        "print(\"Hello Python interpreter!\")"
      ]
    },
    {
      "cell_type": "markdown",
      "source": [],
      "metadata": {
        "id": "t0oa-wCWfV-R"
      }
    }
  ]
}